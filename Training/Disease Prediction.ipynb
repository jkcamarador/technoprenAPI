{
 "cells": [
  {
   "cell_type": "code",
   "execution_count": 1,
   "id": "5d62ca18",
   "metadata": {},
   "outputs": [],
   "source": [
    "import numpy as np\n",
    "import pandas as pd\n",
    "import matplotlib.pyplot as plt\n",
    "import seaborn as sns\n",
    "\n",
    "from sklearn.ensemble import RandomForestClassifier\n",
    "from sklearn.ensemble import GradientBoostingClassifier\n",
    "from sklearn.metrics import accuracy_score\n",
    "from sklearn.model_selection import train_test_split, cross_val_score\n",
    "from sklearn.metrics import confusion_matrix\n",
    "from sklearn.metrics import f1_score\n",
    "\n",
    "import warnings\n",
    "warnings.simplefilter(\"ignore\")"
   ]
  },
  {
   "cell_type": "code",
   "execution_count": 2,
   "id": "014c1611",
   "metadata": {},
   "outputs": [],
   "source": [
    "df = pd.read_csv(\"dataset.csv\")"
   ]
  },
  {
   "cell_type": "code",
   "execution_count": 3,
   "id": "518646c4",
   "metadata": {
    "scrolled": true
   },
   "outputs": [
    {
     "data": {
      "text/html": [
       "<div>\n",
       "<style scoped>\n",
       "    .dataframe tbody tr th:only-of-type {\n",
       "        vertical-align: middle;\n",
       "    }\n",
       "\n",
       "    .dataframe tbody tr th {\n",
       "        vertical-align: top;\n",
       "    }\n",
       "\n",
       "    .dataframe thead th {\n",
       "        text-align: right;\n",
       "    }\n",
       "</style>\n",
       "<table border=\"1\" class=\"dataframe\">\n",
       "  <thead>\n",
       "    <tr style=\"text-align: right;\">\n",
       "      <th></th>\n",
       "      <th>Disease</th>\n",
       "      <th>Symptom_1</th>\n",
       "      <th>Symptom_2</th>\n",
       "      <th>Symptom_3</th>\n",
       "      <th>Symptom_4</th>\n",
       "      <th>Symptom_5</th>\n",
       "      <th>Symptom_6</th>\n",
       "      <th>Symptom_7</th>\n",
       "      <th>Symptom_8</th>\n",
       "      <th>Symptom_9</th>\n",
       "      <th>Symptom_10</th>\n",
       "      <th>Symptom_11</th>\n",
       "      <th>Symptom_12</th>\n",
       "      <th>Symptom_13</th>\n",
       "      <th>Symptom_14</th>\n",
       "      <th>Symptom_15</th>\n",
       "      <th>Symptom_16</th>\n",
       "      <th>Symptom_17</th>\n",
       "    </tr>\n",
       "  </thead>\n",
       "  <tbody>\n",
       "    <tr>\n",
       "      <th>0</th>\n",
       "      <td>Fungal infection</td>\n",
       "      <td>itching</td>\n",
       "      <td>skin_rash</td>\n",
       "      <td>nodal_skin_eruptions</td>\n",
       "      <td>dischromic _patches</td>\n",
       "      <td>NaN</td>\n",
       "      <td>NaN</td>\n",
       "      <td>NaN</td>\n",
       "      <td>NaN</td>\n",
       "      <td>NaN</td>\n",
       "      <td>NaN</td>\n",
       "      <td>NaN</td>\n",
       "      <td>NaN</td>\n",
       "      <td>NaN</td>\n",
       "      <td>NaN</td>\n",
       "      <td>NaN</td>\n",
       "      <td>NaN</td>\n",
       "      <td>NaN</td>\n",
       "    </tr>\n",
       "    <tr>\n",
       "      <th>1</th>\n",
       "      <td>Fungal infection</td>\n",
       "      <td>skin_rash</td>\n",
       "      <td>nodal_skin_eruptions</td>\n",
       "      <td>dischromic _patches</td>\n",
       "      <td>NaN</td>\n",
       "      <td>NaN</td>\n",
       "      <td>NaN</td>\n",
       "      <td>NaN</td>\n",
       "      <td>NaN</td>\n",
       "      <td>NaN</td>\n",
       "      <td>NaN</td>\n",
       "      <td>NaN</td>\n",
       "      <td>NaN</td>\n",
       "      <td>NaN</td>\n",
       "      <td>NaN</td>\n",
       "      <td>NaN</td>\n",
       "      <td>NaN</td>\n",
       "      <td>NaN</td>\n",
       "    </tr>\n",
       "    <tr>\n",
       "      <th>2</th>\n",
       "      <td>Fungal infection</td>\n",
       "      <td>itching</td>\n",
       "      <td>nodal_skin_eruptions</td>\n",
       "      <td>dischromic _patches</td>\n",
       "      <td>NaN</td>\n",
       "      <td>NaN</td>\n",
       "      <td>NaN</td>\n",
       "      <td>NaN</td>\n",
       "      <td>NaN</td>\n",
       "      <td>NaN</td>\n",
       "      <td>NaN</td>\n",
       "      <td>NaN</td>\n",
       "      <td>NaN</td>\n",
       "      <td>NaN</td>\n",
       "      <td>NaN</td>\n",
       "      <td>NaN</td>\n",
       "      <td>NaN</td>\n",
       "      <td>NaN</td>\n",
       "    </tr>\n",
       "    <tr>\n",
       "      <th>3</th>\n",
       "      <td>Fungal infection</td>\n",
       "      <td>itching</td>\n",
       "      <td>skin_rash</td>\n",
       "      <td>dischromic _patches</td>\n",
       "      <td>NaN</td>\n",
       "      <td>NaN</td>\n",
       "      <td>NaN</td>\n",
       "      <td>NaN</td>\n",
       "      <td>NaN</td>\n",
       "      <td>NaN</td>\n",
       "      <td>NaN</td>\n",
       "      <td>NaN</td>\n",
       "      <td>NaN</td>\n",
       "      <td>NaN</td>\n",
       "      <td>NaN</td>\n",
       "      <td>NaN</td>\n",
       "      <td>NaN</td>\n",
       "      <td>NaN</td>\n",
       "    </tr>\n",
       "    <tr>\n",
       "      <th>4</th>\n",
       "      <td>Fungal infection</td>\n",
       "      <td>itching</td>\n",
       "      <td>skin_rash</td>\n",
       "      <td>nodal_skin_eruptions</td>\n",
       "      <td>NaN</td>\n",
       "      <td>NaN</td>\n",
       "      <td>NaN</td>\n",
       "      <td>NaN</td>\n",
       "      <td>NaN</td>\n",
       "      <td>NaN</td>\n",
       "      <td>NaN</td>\n",
       "      <td>NaN</td>\n",
       "      <td>NaN</td>\n",
       "      <td>NaN</td>\n",
       "      <td>NaN</td>\n",
       "      <td>NaN</td>\n",
       "      <td>NaN</td>\n",
       "      <td>NaN</td>\n",
       "    </tr>\n",
       "  </tbody>\n",
       "</table>\n",
       "</div>"
      ],
      "text/plain": [
       "            Disease   Symptom_1              Symptom_2              Symptom_3  \\\n",
       "0  Fungal infection     itching              skin_rash   nodal_skin_eruptions   \n",
       "1  Fungal infection   skin_rash   nodal_skin_eruptions    dischromic _patches   \n",
       "2  Fungal infection     itching   nodal_skin_eruptions    dischromic _patches   \n",
       "3  Fungal infection     itching              skin_rash    dischromic _patches   \n",
       "4  Fungal infection     itching              skin_rash   nodal_skin_eruptions   \n",
       "\n",
       "              Symptom_4 Symptom_5 Symptom_6 Symptom_7 Symptom_8 Symptom_9  \\\n",
       "0   dischromic _patches       NaN       NaN       NaN       NaN       NaN   \n",
       "1                   NaN       NaN       NaN       NaN       NaN       NaN   \n",
       "2                   NaN       NaN       NaN       NaN       NaN       NaN   \n",
       "3                   NaN       NaN       NaN       NaN       NaN       NaN   \n",
       "4                   NaN       NaN       NaN       NaN       NaN       NaN   \n",
       "\n",
       "  Symptom_10 Symptom_11 Symptom_12 Symptom_13 Symptom_14 Symptom_15  \\\n",
       "0        NaN        NaN        NaN        NaN        NaN        NaN   \n",
       "1        NaN        NaN        NaN        NaN        NaN        NaN   \n",
       "2        NaN        NaN        NaN        NaN        NaN        NaN   \n",
       "3        NaN        NaN        NaN        NaN        NaN        NaN   \n",
       "4        NaN        NaN        NaN        NaN        NaN        NaN   \n",
       "\n",
       "  Symptom_16 Symptom_17  \n",
       "0        NaN        NaN  \n",
       "1        NaN        NaN  \n",
       "2        NaN        NaN  \n",
       "3        NaN        NaN  \n",
       "4        NaN        NaN  "
      ]
     },
     "execution_count": 3,
     "metadata": {},
     "output_type": "execute_result"
    }
   ],
   "source": [
    "df.head()"
   ]
  },
  {
   "cell_type": "markdown",
   "id": "890b8a7b",
   "metadata": {},
   "source": [
    "<h3>Data Preprocessing</h3>"
   ]
  },
  {
   "cell_type": "code",
   "execution_count": 4,
   "id": "8af6c941",
   "metadata": {},
   "outputs": [],
   "source": [
    "df[\"Symptoms\"] = \"\""
   ]
  },
  {
   "cell_type": "code",
   "execution_count": 5,
   "id": "5816dda1",
   "metadata": {},
   "outputs": [],
   "source": [
    "for i in range(df.shape[0]):\n",
    "    values = df.iloc[i].values\n",
    "    values = values.tolist()\n",
    "    if 0 in values:\n",
    "        df[\"Symptoms\"][i] = values[1:values.index(0)]\n",
    "    else:\n",
    "        df[\"Symptoms\"][i] = values[1:]"
   ]
  },
  {
   "cell_type": "code",
   "execution_count": 6,
   "id": "6be51dcc",
   "metadata": {},
   "outputs": [
    {
     "data": {
      "text/html": [
       "<div>\n",
       "<style scoped>\n",
       "    .dataframe tbody tr th:only-of-type {\n",
       "        vertical-align: middle;\n",
       "    }\n",
       "\n",
       "    .dataframe tbody tr th {\n",
       "        vertical-align: top;\n",
       "    }\n",
       "\n",
       "    .dataframe thead th {\n",
       "        text-align: right;\n",
       "    }\n",
       "</style>\n",
       "<table border=\"1\" class=\"dataframe\">\n",
       "  <thead>\n",
       "    <tr style=\"text-align: right;\">\n",
       "      <th></th>\n",
       "      <th>Disease</th>\n",
       "      <th>Symptom_1</th>\n",
       "      <th>Symptom_2</th>\n",
       "      <th>Symptom_3</th>\n",
       "      <th>Symptom_4</th>\n",
       "      <th>Symptom_5</th>\n",
       "      <th>Symptom_6</th>\n",
       "      <th>Symptom_7</th>\n",
       "      <th>Symptom_8</th>\n",
       "      <th>Symptom_9</th>\n",
       "      <th>Symptom_10</th>\n",
       "      <th>Symptom_11</th>\n",
       "      <th>Symptom_12</th>\n",
       "      <th>Symptom_13</th>\n",
       "      <th>Symptom_14</th>\n",
       "      <th>Symptom_15</th>\n",
       "      <th>Symptom_16</th>\n",
       "      <th>Symptom_17</th>\n",
       "      <th>Symptoms</th>\n",
       "    </tr>\n",
       "  </thead>\n",
       "  <tbody>\n",
       "    <tr>\n",
       "      <th>0</th>\n",
       "      <td>Fungal infection</td>\n",
       "      <td>itching</td>\n",
       "      <td>skin_rash</td>\n",
       "      <td>nodal_skin_eruptions</td>\n",
       "      <td>dischromic _patches</td>\n",
       "      <td>NaN</td>\n",
       "      <td>NaN</td>\n",
       "      <td>NaN</td>\n",
       "      <td>NaN</td>\n",
       "      <td>NaN</td>\n",
       "      <td>NaN</td>\n",
       "      <td>NaN</td>\n",
       "      <td>NaN</td>\n",
       "      <td>NaN</td>\n",
       "      <td>NaN</td>\n",
       "      <td>NaN</td>\n",
       "      <td>NaN</td>\n",
       "      <td>NaN</td>\n",
       "      <td>[itching,  skin_rash,  nodal_skin_eruptions,  ...</td>\n",
       "    </tr>\n",
       "    <tr>\n",
       "      <th>1</th>\n",
       "      <td>Fungal infection</td>\n",
       "      <td>skin_rash</td>\n",
       "      <td>nodal_skin_eruptions</td>\n",
       "      <td>dischromic _patches</td>\n",
       "      <td>NaN</td>\n",
       "      <td>NaN</td>\n",
       "      <td>NaN</td>\n",
       "      <td>NaN</td>\n",
       "      <td>NaN</td>\n",
       "      <td>NaN</td>\n",
       "      <td>NaN</td>\n",
       "      <td>NaN</td>\n",
       "      <td>NaN</td>\n",
       "      <td>NaN</td>\n",
       "      <td>NaN</td>\n",
       "      <td>NaN</td>\n",
       "      <td>NaN</td>\n",
       "      <td>NaN</td>\n",
       "      <td>[ skin_rash,  nodal_skin_eruptions,  dischromi...</td>\n",
       "    </tr>\n",
       "    <tr>\n",
       "      <th>2</th>\n",
       "      <td>Fungal infection</td>\n",
       "      <td>itching</td>\n",
       "      <td>nodal_skin_eruptions</td>\n",
       "      <td>dischromic _patches</td>\n",
       "      <td>NaN</td>\n",
       "      <td>NaN</td>\n",
       "      <td>NaN</td>\n",
       "      <td>NaN</td>\n",
       "      <td>NaN</td>\n",
       "      <td>NaN</td>\n",
       "      <td>NaN</td>\n",
       "      <td>NaN</td>\n",
       "      <td>NaN</td>\n",
       "      <td>NaN</td>\n",
       "      <td>NaN</td>\n",
       "      <td>NaN</td>\n",
       "      <td>NaN</td>\n",
       "      <td>NaN</td>\n",
       "      <td>[itching,  nodal_skin_eruptions,  dischromic _...</td>\n",
       "    </tr>\n",
       "    <tr>\n",
       "      <th>3</th>\n",
       "      <td>Fungal infection</td>\n",
       "      <td>itching</td>\n",
       "      <td>skin_rash</td>\n",
       "      <td>dischromic _patches</td>\n",
       "      <td>NaN</td>\n",
       "      <td>NaN</td>\n",
       "      <td>NaN</td>\n",
       "      <td>NaN</td>\n",
       "      <td>NaN</td>\n",
       "      <td>NaN</td>\n",
       "      <td>NaN</td>\n",
       "      <td>NaN</td>\n",
       "      <td>NaN</td>\n",
       "      <td>NaN</td>\n",
       "      <td>NaN</td>\n",
       "      <td>NaN</td>\n",
       "      <td>NaN</td>\n",
       "      <td>NaN</td>\n",
       "      <td>[itching,  skin_rash,  dischromic _patches, na...</td>\n",
       "    </tr>\n",
       "    <tr>\n",
       "      <th>4</th>\n",
       "      <td>Fungal infection</td>\n",
       "      <td>itching</td>\n",
       "      <td>skin_rash</td>\n",
       "      <td>nodal_skin_eruptions</td>\n",
       "      <td>NaN</td>\n",
       "      <td>NaN</td>\n",
       "      <td>NaN</td>\n",
       "      <td>NaN</td>\n",
       "      <td>NaN</td>\n",
       "      <td>NaN</td>\n",
       "      <td>NaN</td>\n",
       "      <td>NaN</td>\n",
       "      <td>NaN</td>\n",
       "      <td>NaN</td>\n",
       "      <td>NaN</td>\n",
       "      <td>NaN</td>\n",
       "      <td>NaN</td>\n",
       "      <td>NaN</td>\n",
       "      <td>[itching,  skin_rash,  nodal_skin_eruptions, n...</td>\n",
       "    </tr>\n",
       "  </tbody>\n",
       "</table>\n",
       "</div>"
      ],
      "text/plain": [
       "            Disease   Symptom_1              Symptom_2              Symptom_3  \\\n",
       "0  Fungal infection     itching              skin_rash   nodal_skin_eruptions   \n",
       "1  Fungal infection   skin_rash   nodal_skin_eruptions    dischromic _patches   \n",
       "2  Fungal infection     itching   nodal_skin_eruptions    dischromic _patches   \n",
       "3  Fungal infection     itching              skin_rash    dischromic _patches   \n",
       "4  Fungal infection     itching              skin_rash   nodal_skin_eruptions   \n",
       "\n",
       "              Symptom_4 Symptom_5 Symptom_6 Symptom_7 Symptom_8 Symptom_9  \\\n",
       "0   dischromic _patches       NaN       NaN       NaN       NaN       NaN   \n",
       "1                   NaN       NaN       NaN       NaN       NaN       NaN   \n",
       "2                   NaN       NaN       NaN       NaN       NaN       NaN   \n",
       "3                   NaN       NaN       NaN       NaN       NaN       NaN   \n",
       "4                   NaN       NaN       NaN       NaN       NaN       NaN   \n",
       "\n",
       "  Symptom_10 Symptom_11 Symptom_12 Symptom_13 Symptom_14 Symptom_15  \\\n",
       "0        NaN        NaN        NaN        NaN        NaN        NaN   \n",
       "1        NaN        NaN        NaN        NaN        NaN        NaN   \n",
       "2        NaN        NaN        NaN        NaN        NaN        NaN   \n",
       "3        NaN        NaN        NaN        NaN        NaN        NaN   \n",
       "4        NaN        NaN        NaN        NaN        NaN        NaN   \n",
       "\n",
       "  Symptom_16 Symptom_17                                           Symptoms  \n",
       "0        NaN        NaN  [itching,  skin_rash,  nodal_skin_eruptions,  ...  \n",
       "1        NaN        NaN  [ skin_rash,  nodal_skin_eruptions,  dischromi...  \n",
       "2        NaN        NaN  [itching,  nodal_skin_eruptions,  dischromic _...  \n",
       "3        NaN        NaN  [itching,  skin_rash,  dischromic _patches, na...  \n",
       "4        NaN        NaN  [itching,  skin_rash,  nodal_skin_eruptions, n...  "
      ]
     },
     "execution_count": 6,
     "metadata": {},
     "output_type": "execute_result"
    }
   ],
   "source": [
    "df.head()"
   ]
  },
  {
   "cell_type": "code",
   "execution_count": 7,
   "id": "1afb3fa1",
   "metadata": {
    "scrolled": true
   },
   "outputs": [
    {
     "data": {
      "text/plain": [
       "0    [itching,  skin_rash,  nodal_skin_eruptions,  ...\n",
       "1    [ skin_rash,  nodal_skin_eruptions,  dischromi...\n",
       "2    [itching,  nodal_skin_eruptions,  dischromic _...\n",
       "3    [itching,  skin_rash,  dischromic _patches, na...\n",
       "4    [itching,  skin_rash,  nodal_skin_eruptions, n...\n",
       "Name: Symptoms, dtype: object"
      ]
     },
     "execution_count": 7,
     "metadata": {},
     "output_type": "execute_result"
    }
   ],
   "source": [
    "df[\"Symptoms\"].head()"
   ]
  },
  {
   "cell_type": "markdown",
   "id": "55562590",
   "metadata": {},
   "source": [
    "<h3>Data Engineering</h3>"
   ]
  },
  {
   "cell_type": "markdown",
   "id": "ca35bf12",
   "metadata": {},
   "source": [
    "Getting all symptoms value"
   ]
  },
  {
   "cell_type": "code",
   "execution_count": 8,
   "id": "8931c4e3",
   "metadata": {},
   "outputs": [],
   "source": [
    "# data = df.iloc[:,1:].values.ravel().tolist()"
   ]
  },
  {
   "cell_type": "code",
   "execution_count": 9,
   "id": "2990c640",
   "metadata": {},
   "outputs": [],
   "source": [
    "all_symptoms = df[['Symptom_1', 'Symptom_2', 'Symptom_3', 'Symptom_4',\n",
    "       'Symptom_5', 'Symptom_6', 'Symptom_7', 'Symptom_8', 'Symptom_9',\n",
    "       'Symptom_10', 'Symptom_11', 'Symptom_12', 'Symptom_13', 'Symptom_14',\n",
    "       'Symptom_15', 'Symptom_16', 'Symptom_17']].values.ravel()"
   ]
  },
  {
   "cell_type": "code",
   "execution_count": 10,
   "id": "87714c15",
   "metadata": {},
   "outputs": [],
   "source": [
    "symptoms = pd.unique(all_symptoms)\n",
    "symptoms = symptoms.tolist()\n",
    "symptoms = [i for i in symptoms if str(i) != \"nan\"]"
   ]
  },
  {
   "cell_type": "code",
   "execution_count": 11,
   "id": "8aebd79b",
   "metadata": {},
   "outputs": [],
   "source": [
    "final_df = pd.DataFrame(columns = symptoms,index = df.index)"
   ]
  },
  {
   "cell_type": "code",
   "execution_count": 12,
   "id": "650f7490",
   "metadata": {},
   "outputs": [],
   "source": [
    "final_df[\"Symptoms\"] = df[\"Symptoms\"]"
   ]
  },
  {
   "cell_type": "code",
   "execution_count": 13,
   "id": "6763d6ba",
   "metadata": {
    "scrolled": true
   },
   "outputs": [],
   "source": [
    "for i in symptoms:\n",
    "    final_df[i] = final_df.apply(lambda x:1 if i in x.Symptoms else 0, axis=1)"
   ]
  },
  {
   "cell_type": "code",
   "execution_count": 14,
   "id": "af3126d9",
   "metadata": {},
   "outputs": [],
   "source": [
    "final_df[\"Disease\"] = df[\"Disease\"]\n",
    "final_df = final_df.drop(\"Symptoms\",axis=1)"
   ]
  },
  {
   "cell_type": "code",
   "execution_count": 15,
   "id": "1feb5727",
   "metadata": {},
   "outputs": [
    {
     "data": {
      "text/html": [
       "<div>\n",
       "<style scoped>\n",
       "    .dataframe tbody tr th:only-of-type {\n",
       "        vertical-align: middle;\n",
       "    }\n",
       "\n",
       "    .dataframe tbody tr th {\n",
       "        vertical-align: top;\n",
       "    }\n",
       "\n",
       "    .dataframe thead th {\n",
       "        text-align: right;\n",
       "    }\n",
       "</style>\n",
       "<table border=\"1\" class=\"dataframe\">\n",
       "  <thead>\n",
       "    <tr style=\"text-align: right;\">\n",
       "      <th></th>\n",
       "      <th>itching</th>\n",
       "      <th>skin_rash</th>\n",
       "      <th>nodal_skin_eruptions</th>\n",
       "      <th>dischromic _patches</th>\n",
       "      <th>continuous_sneezing</th>\n",
       "      <th>shivering</th>\n",
       "      <th>chills</th>\n",
       "      <th>watering_from_eyes</th>\n",
       "      <th>stomach_pain</th>\n",
       "      <th>acidity</th>\n",
       "      <th>...</th>\n",
       "      <th>foul_smell_of urine</th>\n",
       "      <th>continuous_feel_of_urine</th>\n",
       "      <th>skin_peeling</th>\n",
       "      <th>silver_like_dusting</th>\n",
       "      <th>small_dents_in_nails</th>\n",
       "      <th>inflammatory_nails</th>\n",
       "      <th>blister</th>\n",
       "      <th>red_sore_around_nose</th>\n",
       "      <th>yellow_crust_ooze</th>\n",
       "      <th>Disease</th>\n",
       "    </tr>\n",
       "  </thead>\n",
       "  <tbody>\n",
       "    <tr>\n",
       "      <th>0</th>\n",
       "      <td>1</td>\n",
       "      <td>1</td>\n",
       "      <td>1</td>\n",
       "      <td>1</td>\n",
       "      <td>0</td>\n",
       "      <td>0</td>\n",
       "      <td>0</td>\n",
       "      <td>0</td>\n",
       "      <td>0</td>\n",
       "      <td>0</td>\n",
       "      <td>...</td>\n",
       "      <td>0</td>\n",
       "      <td>0</td>\n",
       "      <td>0</td>\n",
       "      <td>0</td>\n",
       "      <td>0</td>\n",
       "      <td>0</td>\n",
       "      <td>0</td>\n",
       "      <td>0</td>\n",
       "      <td>0</td>\n",
       "      <td>Fungal infection</td>\n",
       "    </tr>\n",
       "    <tr>\n",
       "      <th>1</th>\n",
       "      <td>0</td>\n",
       "      <td>1</td>\n",
       "      <td>1</td>\n",
       "      <td>1</td>\n",
       "      <td>0</td>\n",
       "      <td>0</td>\n",
       "      <td>0</td>\n",
       "      <td>0</td>\n",
       "      <td>0</td>\n",
       "      <td>0</td>\n",
       "      <td>...</td>\n",
       "      <td>0</td>\n",
       "      <td>0</td>\n",
       "      <td>0</td>\n",
       "      <td>0</td>\n",
       "      <td>0</td>\n",
       "      <td>0</td>\n",
       "      <td>0</td>\n",
       "      <td>0</td>\n",
       "      <td>0</td>\n",
       "      <td>Fungal infection</td>\n",
       "    </tr>\n",
       "    <tr>\n",
       "      <th>2</th>\n",
       "      <td>1</td>\n",
       "      <td>0</td>\n",
       "      <td>1</td>\n",
       "      <td>1</td>\n",
       "      <td>0</td>\n",
       "      <td>0</td>\n",
       "      <td>0</td>\n",
       "      <td>0</td>\n",
       "      <td>0</td>\n",
       "      <td>0</td>\n",
       "      <td>...</td>\n",
       "      <td>0</td>\n",
       "      <td>0</td>\n",
       "      <td>0</td>\n",
       "      <td>0</td>\n",
       "      <td>0</td>\n",
       "      <td>0</td>\n",
       "      <td>0</td>\n",
       "      <td>0</td>\n",
       "      <td>0</td>\n",
       "      <td>Fungal infection</td>\n",
       "    </tr>\n",
       "    <tr>\n",
       "      <th>3</th>\n",
       "      <td>1</td>\n",
       "      <td>1</td>\n",
       "      <td>0</td>\n",
       "      <td>1</td>\n",
       "      <td>0</td>\n",
       "      <td>0</td>\n",
       "      <td>0</td>\n",
       "      <td>0</td>\n",
       "      <td>0</td>\n",
       "      <td>0</td>\n",
       "      <td>...</td>\n",
       "      <td>0</td>\n",
       "      <td>0</td>\n",
       "      <td>0</td>\n",
       "      <td>0</td>\n",
       "      <td>0</td>\n",
       "      <td>0</td>\n",
       "      <td>0</td>\n",
       "      <td>0</td>\n",
       "      <td>0</td>\n",
       "      <td>Fungal infection</td>\n",
       "    </tr>\n",
       "    <tr>\n",
       "      <th>4</th>\n",
       "      <td>1</td>\n",
       "      <td>1</td>\n",
       "      <td>1</td>\n",
       "      <td>0</td>\n",
       "      <td>0</td>\n",
       "      <td>0</td>\n",
       "      <td>0</td>\n",
       "      <td>0</td>\n",
       "      <td>0</td>\n",
       "      <td>0</td>\n",
       "      <td>...</td>\n",
       "      <td>0</td>\n",
       "      <td>0</td>\n",
       "      <td>0</td>\n",
       "      <td>0</td>\n",
       "      <td>0</td>\n",
       "      <td>0</td>\n",
       "      <td>0</td>\n",
       "      <td>0</td>\n",
       "      <td>0</td>\n",
       "      <td>Fungal infection</td>\n",
       "    </tr>\n",
       "    <tr>\n",
       "      <th>...</th>\n",
       "      <td>...</td>\n",
       "      <td>...</td>\n",
       "      <td>...</td>\n",
       "      <td>...</td>\n",
       "      <td>...</td>\n",
       "      <td>...</td>\n",
       "      <td>...</td>\n",
       "      <td>...</td>\n",
       "      <td>...</td>\n",
       "      <td>...</td>\n",
       "      <td>...</td>\n",
       "      <td>...</td>\n",
       "      <td>...</td>\n",
       "      <td>...</td>\n",
       "      <td>...</td>\n",
       "      <td>...</td>\n",
       "      <td>...</td>\n",
       "      <td>...</td>\n",
       "      <td>...</td>\n",
       "      <td>...</td>\n",
       "      <td>...</td>\n",
       "    </tr>\n",
       "    <tr>\n",
       "      <th>4915</th>\n",
       "      <td>0</td>\n",
       "      <td>0</td>\n",
       "      <td>0</td>\n",
       "      <td>0</td>\n",
       "      <td>0</td>\n",
       "      <td>0</td>\n",
       "      <td>0</td>\n",
       "      <td>0</td>\n",
       "      <td>0</td>\n",
       "      <td>0</td>\n",
       "      <td>...</td>\n",
       "      <td>0</td>\n",
       "      <td>0</td>\n",
       "      <td>0</td>\n",
       "      <td>0</td>\n",
       "      <td>0</td>\n",
       "      <td>0</td>\n",
       "      <td>0</td>\n",
       "      <td>0</td>\n",
       "      <td>0</td>\n",
       "      <td>(vertigo) Paroymsal  Positional Vertigo</td>\n",
       "    </tr>\n",
       "    <tr>\n",
       "      <th>4916</th>\n",
       "      <td>0</td>\n",
       "      <td>1</td>\n",
       "      <td>0</td>\n",
       "      <td>0</td>\n",
       "      <td>0</td>\n",
       "      <td>0</td>\n",
       "      <td>0</td>\n",
       "      <td>0</td>\n",
       "      <td>0</td>\n",
       "      <td>0</td>\n",
       "      <td>...</td>\n",
       "      <td>0</td>\n",
       "      <td>0</td>\n",
       "      <td>0</td>\n",
       "      <td>0</td>\n",
       "      <td>0</td>\n",
       "      <td>0</td>\n",
       "      <td>0</td>\n",
       "      <td>0</td>\n",
       "      <td>0</td>\n",
       "      <td>Acne</td>\n",
       "    </tr>\n",
       "    <tr>\n",
       "      <th>4917</th>\n",
       "      <td>0</td>\n",
       "      <td>0</td>\n",
       "      <td>0</td>\n",
       "      <td>0</td>\n",
       "      <td>0</td>\n",
       "      <td>0</td>\n",
       "      <td>0</td>\n",
       "      <td>0</td>\n",
       "      <td>0</td>\n",
       "      <td>0</td>\n",
       "      <td>...</td>\n",
       "      <td>1</td>\n",
       "      <td>1</td>\n",
       "      <td>0</td>\n",
       "      <td>0</td>\n",
       "      <td>0</td>\n",
       "      <td>0</td>\n",
       "      <td>0</td>\n",
       "      <td>0</td>\n",
       "      <td>0</td>\n",
       "      <td>Urinary tract infection</td>\n",
       "    </tr>\n",
       "    <tr>\n",
       "      <th>4918</th>\n",
       "      <td>0</td>\n",
       "      <td>1</td>\n",
       "      <td>0</td>\n",
       "      <td>0</td>\n",
       "      <td>0</td>\n",
       "      <td>0</td>\n",
       "      <td>0</td>\n",
       "      <td>0</td>\n",
       "      <td>0</td>\n",
       "      <td>0</td>\n",
       "      <td>...</td>\n",
       "      <td>0</td>\n",
       "      <td>0</td>\n",
       "      <td>1</td>\n",
       "      <td>1</td>\n",
       "      <td>1</td>\n",
       "      <td>1</td>\n",
       "      <td>0</td>\n",
       "      <td>0</td>\n",
       "      <td>0</td>\n",
       "      <td>Psoriasis</td>\n",
       "    </tr>\n",
       "    <tr>\n",
       "      <th>4919</th>\n",
       "      <td>0</td>\n",
       "      <td>1</td>\n",
       "      <td>0</td>\n",
       "      <td>0</td>\n",
       "      <td>0</td>\n",
       "      <td>0</td>\n",
       "      <td>0</td>\n",
       "      <td>0</td>\n",
       "      <td>0</td>\n",
       "      <td>0</td>\n",
       "      <td>...</td>\n",
       "      <td>0</td>\n",
       "      <td>0</td>\n",
       "      <td>0</td>\n",
       "      <td>0</td>\n",
       "      <td>0</td>\n",
       "      <td>0</td>\n",
       "      <td>1</td>\n",
       "      <td>1</td>\n",
       "      <td>1</td>\n",
       "      <td>Impetigo</td>\n",
       "    </tr>\n",
       "  </tbody>\n",
       "</table>\n",
       "<p>4920 rows × 132 columns</p>\n",
       "</div>"
      ],
      "text/plain": [
       "      itching   skin_rash   nodal_skin_eruptions   dischromic _patches  \\\n",
       "0           1           1                      1                     1   \n",
       "1           0           1                      1                     1   \n",
       "2           1           0                      1                     1   \n",
       "3           1           1                      0                     1   \n",
       "4           1           1                      1                     0   \n",
       "...       ...         ...                    ...                   ...   \n",
       "4915        0           0                      0                     0   \n",
       "4916        0           1                      0                     0   \n",
       "4917        0           0                      0                     0   \n",
       "4918        0           1                      0                     0   \n",
       "4919        0           1                      0                     0   \n",
       "\n",
       "       continuous_sneezing   shivering   chills   watering_from_eyes  \\\n",
       "0                        0           0        0                    0   \n",
       "1                        0           0        0                    0   \n",
       "2                        0           0        0                    0   \n",
       "3                        0           0        0                    0   \n",
       "4                        0           0        0                    0   \n",
       "...                    ...         ...      ...                  ...   \n",
       "4915                     0           0        0                    0   \n",
       "4916                     0           0        0                    0   \n",
       "4917                     0           0        0                    0   \n",
       "4918                     0           0        0                    0   \n",
       "4919                     0           0        0                    0   \n",
       "\n",
       "       stomach_pain   acidity  ...   foul_smell_of urine  \\\n",
       "0                 0         0  ...                     0   \n",
       "1                 0         0  ...                     0   \n",
       "2                 0         0  ...                     0   \n",
       "3                 0         0  ...                     0   \n",
       "4                 0         0  ...                     0   \n",
       "...             ...       ...  ...                   ...   \n",
       "4915              0         0  ...                     0   \n",
       "4916              0         0  ...                     0   \n",
       "4917              0         0  ...                     1   \n",
       "4918              0         0  ...                     0   \n",
       "4919              0         0  ...                     0   \n",
       "\n",
       "       continuous_feel_of_urine   skin_peeling   silver_like_dusting  \\\n",
       "0                             0              0                     0   \n",
       "1                             0              0                     0   \n",
       "2                             0              0                     0   \n",
       "3                             0              0                     0   \n",
       "4                             0              0                     0   \n",
       "...                         ...            ...                   ...   \n",
       "4915                          0              0                     0   \n",
       "4916                          0              0                     0   \n",
       "4917                          1              0                     0   \n",
       "4918                          0              1                     1   \n",
       "4919                          0              0                     0   \n",
       "\n",
       "       small_dents_in_nails   inflammatory_nails   blister  \\\n",
       "0                         0                    0         0   \n",
       "1                         0                    0         0   \n",
       "2                         0                    0         0   \n",
       "3                         0                    0         0   \n",
       "4                         0                    0         0   \n",
       "...                     ...                  ...       ...   \n",
       "4915                      0                    0         0   \n",
       "4916                      0                    0         0   \n",
       "4917                      0                    0         0   \n",
       "4918                      1                    1         0   \n",
       "4919                      0                    0         1   \n",
       "\n",
       "       red_sore_around_nose   yellow_crust_ooze  \\\n",
       "0                         0                   0   \n",
       "1                         0                   0   \n",
       "2                         0                   0   \n",
       "3                         0                   0   \n",
       "4                         0                   0   \n",
       "...                     ...                 ...   \n",
       "4915                      0                   0   \n",
       "4916                      0                   0   \n",
       "4917                      0                   0   \n",
       "4918                      0                   0   \n",
       "4919                      1                   1   \n",
       "\n",
       "                                      Disease  \n",
       "0                            Fungal infection  \n",
       "1                            Fungal infection  \n",
       "2                            Fungal infection  \n",
       "3                            Fungal infection  \n",
       "4                            Fungal infection  \n",
       "...                                       ...  \n",
       "4915  (vertigo) Paroymsal  Positional Vertigo  \n",
       "4916                                     Acne  \n",
       "4917                  Urinary tract infection  \n",
       "4918                                Psoriasis  \n",
       "4919                                 Impetigo  \n",
       "\n",
       "[4920 rows x 132 columns]"
      ]
     },
     "execution_count": 15,
     "metadata": {},
     "output_type": "execute_result"
    }
   ],
   "source": [
    "final_df"
   ]
  },
  {
   "cell_type": "markdown",
   "id": "26063048",
   "metadata": {},
   "source": [
    "<h4>Total Number of Disease</h4>"
   ]
  },
  {
   "cell_type": "code",
   "execution_count": 16,
   "id": "e75e1c0e",
   "metadata": {},
   "outputs": [
    {
     "data": {
      "text/plain": [
       "41"
      ]
     },
     "execution_count": 16,
     "metadata": {},
     "output_type": "execute_result"
    }
   ],
   "source": [
    "len(final_df[\"Disease\"].unique())"
   ]
  },
  {
   "cell_type": "markdown",
   "id": "d79daf19",
   "metadata": {},
   "source": [
    "<h4>Total Number of Symptoms</h4>"
   ]
  },
  {
   "cell_type": "code",
   "execution_count": 17,
   "id": "d4fea5f1",
   "metadata": {},
   "outputs": [
    {
     "data": {
      "text/plain": [
       "131"
      ]
     },
     "execution_count": 17,
     "metadata": {},
     "output_type": "execute_result"
    }
   ],
   "source": [
    "len(symptoms)"
   ]
  },
  {
   "cell_type": "code",
   "execution_count": 18,
   "id": "e4aa1adb",
   "metadata": {},
   "outputs": [
    {
     "data": {
      "text/plain": [
       "array(['Fungal infection', 'Allergy', 'GERD', 'Chronic cholestasis',\n",
       "       'Drug Reaction', 'Peptic ulcer diseae', 'AIDS', 'Diabetes ',\n",
       "       'Gastroenteritis', 'Bronchial Asthma', 'Hypertension ', 'Migraine',\n",
       "       'Cervical spondylosis', 'Paralysis (brain hemorrhage)', 'Jaundice',\n",
       "       'Malaria', 'Chicken pox', 'Dengue', 'Typhoid', 'hepatitis A',\n",
       "       'Hepatitis B', 'Hepatitis C', 'Hepatitis D', 'Hepatitis E',\n",
       "       'Alcoholic hepatitis', 'Tuberculosis', 'Common Cold', 'Pneumonia',\n",
       "       'Dimorphic hemmorhoids(piles)', 'Heart attack', 'Varicose veins',\n",
       "       'Hypothyroidism', 'Hyperthyroidism', 'Hypoglycemia',\n",
       "       'Osteoarthristis', 'Arthritis',\n",
       "       '(vertigo) Paroymsal  Positional Vertigo', 'Acne',\n",
       "       'Urinary tract infection', 'Psoriasis', 'Impetigo'], dtype=object)"
      ]
     },
     "execution_count": 18,
     "metadata": {},
     "output_type": "execute_result"
    }
   ],
   "source": [
    "final_df[\"Disease\"].unique()\n"
   ]
  },
  {
   "cell_type": "code",
   "execution_count": 19,
   "id": "5164d792",
   "metadata": {},
   "outputs": [
    {
     "data": {
      "text/plain": [
       "(4920, 132)"
      ]
     },
     "execution_count": 19,
     "metadata": {},
     "output_type": "execute_result"
    }
   ],
   "source": [
    "final_df.shape"
   ]
  },
  {
   "cell_type": "markdown",
   "id": "4cacc023",
   "metadata": {},
   "source": [
    "<h3>Data Modeling</h3>"
   ]
  },
  {
   "cell_type": "code",
   "execution_count": 20,
   "id": "0ebffb9b",
   "metadata": {},
   "outputs": [],
   "source": [
    "def confusion_plot(model, X_test, y_test):\n",
    "    plt.figure(figsize=(10, 10), dpi=150)\n",
    "    \n",
    "    y_pred = model.predict(X_test)\n",
    "    con_me = confusion_matrix(y_test, y_pred)\n",
    "    sns.heatmap(con_me, annot=True)"
   ]
  },
  {
   "cell_type": "code",
   "execution_count": 21,
   "id": "c46304e2",
   "metadata": {},
   "outputs": [],
   "source": [
    "train, test = train_test_split(final_df,test_size=0.2)\n",
    "X_train = train.drop(\"Disease\",axis=1)\n",
    "y_train = train[\"Disease\"].copy()\n",
    "X_test = test.drop(\"Disease\",axis=1)\n",
    "y_test = test[\"Disease\"].copy()"
   ]
  },
  {
   "cell_type": "code",
   "execution_count": 22,
   "id": "879a7405",
   "metadata": {
    "scrolled": true
   },
   "outputs": [
    {
     "data": {
      "text/html": [
       "<div>\n",
       "<style scoped>\n",
       "    .dataframe tbody tr th:only-of-type {\n",
       "        vertical-align: middle;\n",
       "    }\n",
       "\n",
       "    .dataframe tbody tr th {\n",
       "        vertical-align: top;\n",
       "    }\n",
       "\n",
       "    .dataframe thead th {\n",
       "        text-align: right;\n",
       "    }\n",
       "</style>\n",
       "<table border=\"1\" class=\"dataframe\">\n",
       "  <thead>\n",
       "    <tr style=\"text-align: right;\">\n",
       "      <th></th>\n",
       "      <th>itching</th>\n",
       "      <th>skin_rash</th>\n",
       "      <th>nodal_skin_eruptions</th>\n",
       "      <th>dischromic _patches</th>\n",
       "      <th>continuous_sneezing</th>\n",
       "      <th>shivering</th>\n",
       "      <th>chills</th>\n",
       "      <th>watering_from_eyes</th>\n",
       "      <th>stomach_pain</th>\n",
       "      <th>acidity</th>\n",
       "      <th>...</th>\n",
       "      <th>bladder_discomfort</th>\n",
       "      <th>foul_smell_of urine</th>\n",
       "      <th>continuous_feel_of_urine</th>\n",
       "      <th>skin_peeling</th>\n",
       "      <th>silver_like_dusting</th>\n",
       "      <th>small_dents_in_nails</th>\n",
       "      <th>inflammatory_nails</th>\n",
       "      <th>blister</th>\n",
       "      <th>red_sore_around_nose</th>\n",
       "      <th>yellow_crust_ooze</th>\n",
       "    </tr>\n",
       "  </thead>\n",
       "  <tbody>\n",
       "    <tr>\n",
       "      <th>1020</th>\n",
       "      <td>1</td>\n",
       "      <td>0</td>\n",
       "      <td>0</td>\n",
       "      <td>0</td>\n",
       "      <td>0</td>\n",
       "      <td>0</td>\n",
       "      <td>0</td>\n",
       "      <td>0</td>\n",
       "      <td>0</td>\n",
       "      <td>0</td>\n",
       "      <td>...</td>\n",
       "      <td>0</td>\n",
       "      <td>0</td>\n",
       "      <td>0</td>\n",
       "      <td>0</td>\n",
       "      <td>0</td>\n",
       "      <td>0</td>\n",
       "      <td>0</td>\n",
       "      <td>0</td>\n",
       "      <td>0</td>\n",
       "      <td>0</td>\n",
       "    </tr>\n",
       "    <tr>\n",
       "      <th>3553</th>\n",
       "      <td>0</td>\n",
       "      <td>0</td>\n",
       "      <td>0</td>\n",
       "      <td>0</td>\n",
       "      <td>0</td>\n",
       "      <td>0</td>\n",
       "      <td>1</td>\n",
       "      <td>0</td>\n",
       "      <td>0</td>\n",
       "      <td>0</td>\n",
       "      <td>...</td>\n",
       "      <td>0</td>\n",
       "      <td>0</td>\n",
       "      <td>0</td>\n",
       "      <td>0</td>\n",
       "      <td>0</td>\n",
       "      <td>0</td>\n",
       "      <td>0</td>\n",
       "      <td>0</td>\n",
       "      <td>0</td>\n",
       "      <td>0</td>\n",
       "    </tr>\n",
       "    <tr>\n",
       "      <th>1983</th>\n",
       "      <td>0</td>\n",
       "      <td>0</td>\n",
       "      <td>0</td>\n",
       "      <td>0</td>\n",
       "      <td>0</td>\n",
       "      <td>0</td>\n",
       "      <td>0</td>\n",
       "      <td>0</td>\n",
       "      <td>0</td>\n",
       "      <td>0</td>\n",
       "      <td>...</td>\n",
       "      <td>0</td>\n",
       "      <td>0</td>\n",
       "      <td>0</td>\n",
       "      <td>0</td>\n",
       "      <td>0</td>\n",
       "      <td>0</td>\n",
       "      <td>0</td>\n",
       "      <td>0</td>\n",
       "      <td>0</td>\n",
       "      <td>0</td>\n",
       "    </tr>\n",
       "    <tr>\n",
       "      <th>1769</th>\n",
       "      <td>0</td>\n",
       "      <td>0</td>\n",
       "      <td>0</td>\n",
       "      <td>0</td>\n",
       "      <td>0</td>\n",
       "      <td>0</td>\n",
       "      <td>0</td>\n",
       "      <td>0</td>\n",
       "      <td>0</td>\n",
       "      <td>0</td>\n",
       "      <td>...</td>\n",
       "      <td>0</td>\n",
       "      <td>0</td>\n",
       "      <td>0</td>\n",
       "      <td>0</td>\n",
       "      <td>0</td>\n",
       "      <td>0</td>\n",
       "      <td>0</td>\n",
       "      <td>0</td>\n",
       "      <td>0</td>\n",
       "      <td>0</td>\n",
       "    </tr>\n",
       "    <tr>\n",
       "      <th>1854</th>\n",
       "      <td>0</td>\n",
       "      <td>0</td>\n",
       "      <td>0</td>\n",
       "      <td>0</td>\n",
       "      <td>0</td>\n",
       "      <td>0</td>\n",
       "      <td>0</td>\n",
       "      <td>0</td>\n",
       "      <td>0</td>\n",
       "      <td>0</td>\n",
       "      <td>...</td>\n",
       "      <td>0</td>\n",
       "      <td>0</td>\n",
       "      <td>0</td>\n",
       "      <td>0</td>\n",
       "      <td>0</td>\n",
       "      <td>0</td>\n",
       "      <td>0</td>\n",
       "      <td>0</td>\n",
       "      <td>0</td>\n",
       "      <td>0</td>\n",
       "    </tr>\n",
       "    <tr>\n",
       "      <th>...</th>\n",
       "      <td>...</td>\n",
       "      <td>...</td>\n",
       "      <td>...</td>\n",
       "      <td>...</td>\n",
       "      <td>...</td>\n",
       "      <td>...</td>\n",
       "      <td>...</td>\n",
       "      <td>...</td>\n",
       "      <td>...</td>\n",
       "      <td>...</td>\n",
       "      <td>...</td>\n",
       "      <td>...</td>\n",
       "      <td>...</td>\n",
       "      <td>...</td>\n",
       "      <td>...</td>\n",
       "      <td>...</td>\n",
       "      <td>...</td>\n",
       "      <td>...</td>\n",
       "      <td>...</td>\n",
       "      <td>...</td>\n",
       "      <td>...</td>\n",
       "    </tr>\n",
       "    <tr>\n",
       "      <th>76</th>\n",
       "      <td>0</td>\n",
       "      <td>0</td>\n",
       "      <td>0</td>\n",
       "      <td>0</td>\n",
       "      <td>0</td>\n",
       "      <td>0</td>\n",
       "      <td>0</td>\n",
       "      <td>0</td>\n",
       "      <td>0</td>\n",
       "      <td>0</td>\n",
       "      <td>...</td>\n",
       "      <td>0</td>\n",
       "      <td>0</td>\n",
       "      <td>0</td>\n",
       "      <td>0</td>\n",
       "      <td>0</td>\n",
       "      <td>0</td>\n",
       "      <td>0</td>\n",
       "      <td>0</td>\n",
       "      <td>0</td>\n",
       "      <td>0</td>\n",
       "    </tr>\n",
       "    <tr>\n",
       "      <th>3573</th>\n",
       "      <td>0</td>\n",
       "      <td>0</td>\n",
       "      <td>0</td>\n",
       "      <td>0</td>\n",
       "      <td>0</td>\n",
       "      <td>0</td>\n",
       "      <td>0</td>\n",
       "      <td>0</td>\n",
       "      <td>0</td>\n",
       "      <td>0</td>\n",
       "      <td>...</td>\n",
       "      <td>0</td>\n",
       "      <td>0</td>\n",
       "      <td>0</td>\n",
       "      <td>0</td>\n",
       "      <td>0</td>\n",
       "      <td>0</td>\n",
       "      <td>0</td>\n",
       "      <td>0</td>\n",
       "      <td>0</td>\n",
       "      <td>0</td>\n",
       "    </tr>\n",
       "    <tr>\n",
       "      <th>1512</th>\n",
       "      <td>0</td>\n",
       "      <td>0</td>\n",
       "      <td>0</td>\n",
       "      <td>0</td>\n",
       "      <td>0</td>\n",
       "      <td>0</td>\n",
       "      <td>0</td>\n",
       "      <td>0</td>\n",
       "      <td>0</td>\n",
       "      <td>0</td>\n",
       "      <td>...</td>\n",
       "      <td>0</td>\n",
       "      <td>0</td>\n",
       "      <td>0</td>\n",
       "      <td>0</td>\n",
       "      <td>0</td>\n",
       "      <td>0</td>\n",
       "      <td>0</td>\n",
       "      <td>0</td>\n",
       "      <td>0</td>\n",
       "      <td>0</td>\n",
       "    </tr>\n",
       "    <tr>\n",
       "      <th>228</th>\n",
       "      <td>0</td>\n",
       "      <td>0</td>\n",
       "      <td>0</td>\n",
       "      <td>0</td>\n",
       "      <td>0</td>\n",
       "      <td>0</td>\n",
       "      <td>0</td>\n",
       "      <td>0</td>\n",
       "      <td>0</td>\n",
       "      <td>0</td>\n",
       "      <td>...</td>\n",
       "      <td>0</td>\n",
       "      <td>0</td>\n",
       "      <td>0</td>\n",
       "      <td>0</td>\n",
       "      <td>0</td>\n",
       "      <td>0</td>\n",
       "      <td>0</td>\n",
       "      <td>0</td>\n",
       "      <td>0</td>\n",
       "      <td>0</td>\n",
       "    </tr>\n",
       "    <tr>\n",
       "      <th>4466</th>\n",
       "      <td>0</td>\n",
       "      <td>0</td>\n",
       "      <td>0</td>\n",
       "      <td>0</td>\n",
       "      <td>0</td>\n",
       "      <td>0</td>\n",
       "      <td>0</td>\n",
       "      <td>0</td>\n",
       "      <td>0</td>\n",
       "      <td>0</td>\n",
       "      <td>...</td>\n",
       "      <td>1</td>\n",
       "      <td>1</td>\n",
       "      <td>1</td>\n",
       "      <td>0</td>\n",
       "      <td>0</td>\n",
       "      <td>0</td>\n",
       "      <td>0</td>\n",
       "      <td>0</td>\n",
       "      <td>0</td>\n",
       "      <td>0</td>\n",
       "    </tr>\n",
       "  </tbody>\n",
       "</table>\n",
       "<p>984 rows × 131 columns</p>\n",
       "</div>"
      ],
      "text/plain": [
       "      itching   skin_rash   nodal_skin_eruptions   dischromic _patches  \\\n",
       "1020        1           0                      0                     0   \n",
       "3553        0           0                      0                     0   \n",
       "1983        0           0                      0                     0   \n",
       "1769        0           0                      0                     0   \n",
       "1854        0           0                      0                     0   \n",
       "...       ...         ...                    ...                   ...   \n",
       "76          0           0                      0                     0   \n",
       "3573        0           0                      0                     0   \n",
       "1512        0           0                      0                     0   \n",
       "228         0           0                      0                     0   \n",
       "4466        0           0                      0                     0   \n",
       "\n",
       "       continuous_sneezing   shivering   chills   watering_from_eyes  \\\n",
       "1020                     0           0        0                    0   \n",
       "3553                     0           0        1                    0   \n",
       "1983                     0           0        0                    0   \n",
       "1769                     0           0        0                    0   \n",
       "1854                     0           0        0                    0   \n",
       "...                    ...         ...      ...                  ...   \n",
       "76                       0           0        0                    0   \n",
       "3573                     0           0        0                    0   \n",
       "1512                     0           0        0                    0   \n",
       "228                      0           0        0                    0   \n",
       "4466                     0           0        0                    0   \n",
       "\n",
       "       stomach_pain   acidity  ...   bladder_discomfort   foul_smell_of urine  \\\n",
       "1020              0         0  ...                    0                     0   \n",
       "3553              0         0  ...                    0                     0   \n",
       "1983              0         0  ...                    0                     0   \n",
       "1769              0         0  ...                    0                     0   \n",
       "1854              0         0  ...                    0                     0   \n",
       "...             ...       ...  ...                  ...                   ...   \n",
       "76                0         0  ...                    0                     0   \n",
       "3573              0         0  ...                    0                     0   \n",
       "1512              0         0  ...                    0                     0   \n",
       "228               0         0  ...                    0                     0   \n",
       "4466              0         0  ...                    1                     1   \n",
       "\n",
       "       continuous_feel_of_urine   skin_peeling   silver_like_dusting  \\\n",
       "1020                          0              0                     0   \n",
       "3553                          0              0                     0   \n",
       "1983                          0              0                     0   \n",
       "1769                          0              0                     0   \n",
       "1854                          0              0                     0   \n",
       "...                         ...            ...                   ...   \n",
       "76                            0              0                     0   \n",
       "3573                          0              0                     0   \n",
       "1512                          0              0                     0   \n",
       "228                           0              0                     0   \n",
       "4466                          1              0                     0   \n",
       "\n",
       "       small_dents_in_nails   inflammatory_nails   blister  \\\n",
       "1020                      0                    0         0   \n",
       "3553                      0                    0         0   \n",
       "1983                      0                    0         0   \n",
       "1769                      0                    0         0   \n",
       "1854                      0                    0         0   \n",
       "...                     ...                  ...       ...   \n",
       "76                        0                    0         0   \n",
       "3573                      0                    0         0   \n",
       "1512                      0                    0         0   \n",
       "228                       0                    0         0   \n",
       "4466                      0                    0         0   \n",
       "\n",
       "       red_sore_around_nose   yellow_crust_ooze  \n",
       "1020                      0                   0  \n",
       "3553                      0                   0  \n",
       "1983                      0                   0  \n",
       "1769                      0                   0  \n",
       "1854                      0                   0  \n",
       "...                     ...                 ...  \n",
       "76                        0                   0  \n",
       "3573                      0                   0  \n",
       "1512                      0                   0  \n",
       "228                       0                   0  \n",
       "4466                      0                   0  \n",
       "\n",
       "[984 rows x 131 columns]"
      ]
     },
     "execution_count": 22,
     "metadata": {},
     "output_type": "execute_result"
    }
   ],
   "source": [
    "X_test"
   ]
  },
  {
   "cell_type": "code",
   "execution_count": 23,
   "id": "835d2d1f",
   "metadata": {},
   "outputs": [],
   "source": [
    "triee = X_test.loc[X_test.index[0]]"
   ]
  },
  {
   "cell_type": "code",
   "execution_count": 24,
   "id": "218204ad",
   "metadata": {},
   "outputs": [
    {
     "data": {
      "text/plain": [
       "pandas.core.series.Series"
      ]
     },
     "execution_count": 24,
     "metadata": {},
     "output_type": "execute_result"
    }
   ],
   "source": [
    "type(triee)"
   ]
  },
  {
   "cell_type": "markdown",
   "id": "ba78a647",
   "metadata": {},
   "source": [
    "<h3>Using Gradient Boosting Classifier</h3>"
   ]
  },
  {
   "cell_type": "code",
   "execution_count": 25,
   "id": "293926a3",
   "metadata": {},
   "outputs": [
    {
     "data": {
      "text/plain": [
       "GradientBoostingClassifier()"
      ]
     },
     "execution_count": 25,
     "metadata": {},
     "output_type": "execute_result"
    }
   ],
   "source": [
    "clf = GradientBoostingClassifier()\n",
    "clf.fit(X_train, y_train)"
   ]
  },
  {
   "cell_type": "markdown",
   "id": "65d5251a",
   "metadata": {},
   "source": [
    "<h4>Evaluation Metrics</h4>"
   ]
  },
  {
   "cell_type": "code",
   "execution_count": 26,
   "id": "c02c20b1",
   "metadata": {},
   "outputs": [
    {
     "data": {
      "text/plain": [
       "1.0"
      ]
     },
     "execution_count": 26,
     "metadata": {},
     "output_type": "execute_result"
    }
   ],
   "source": [
    "#Accuracy\n",
    "y_pred = clf.predict(X_test)\n",
    "accuracy_score(y_test,y_pred)"
   ]
  },
  {
   "cell_type": "code",
   "execution_count": 27,
   "id": "82fa77ae",
   "metadata": {},
   "outputs": [
    {
     "data": {
      "image/png": "[encoded data removed]",
      "text/plain": [
       "<Figure size 1500x1500 with 2 Axes>"
      ]
     },
     "metadata": {
      "needs_background": "light"
     },
     "output_type": "display_data"
    }
   ],
   "source": [
    "#Confusion Matrix\n",
    "confusion_plot(clf, X_test, y_test)"
   ]
  },
  {
   "cell_type": "markdown",
   "id": "33ea96c7",
   "metadata": {},
   "source": [
    "<h3>Using Random Forest Classifier</h3>"
   ]
  },
  {
   "cell_type": "code",
   "execution_count": 28,
   "id": "d647b02d",
   "metadata": {
    "scrolled": true
   },
   "outputs": [
    {
     "data": {
      "text/plain": [
       "RandomForestClassifier()"
      ]
     },
     "execution_count": 28,
     "metadata": {},
     "output_type": "execute_result"
    }
   ],
   "source": [
    "rnd_forest = RandomForestClassifier()\n",
    "rnd_forest.fit(X_train, y_train)"
   ]
  },
  {
   "cell_type": "markdown",
   "id": "aec0b645",
   "metadata": {},
   "source": [
    "<h4>Evaluation Metrics</h4>"
   ]
  },
  {
   "cell_type": "code",
   "execution_count": 29,
   "id": "d64fa26f",
   "metadata": {},
   "outputs": [],
   "source": [
    "#Accuracy\n",
    "y_pred = rnd_forest.predict(X_test)\n",
    "acc = accuracy_score(y_test,y_pred)"
   ]
  },
  {
   "cell_type": "code",
   "execution_count": 30,
   "id": "af54134a",
   "metadata": {},
   "outputs": [
    {
     "data": {
      "text/plain": [
       "100.0"
      ]
     },
     "execution_count": 30,
     "metadata": {},
     "output_type": "execute_result"
    }
   ],
   "source": [
    "acc * 100"
   ]
  },
  {
   "cell_type": "code",
   "execution_count": 31,
   "id": "ec113457",
   "metadata": {},
   "outputs": [
    {
     "data": {
      "image/png": "[encoded data removed]",
      "text/plain": [
       "<Figure size 1500x1500 with 2 Axes>"
      ]
     },
     "metadata": {
      "needs_background": "light"
     },
     "output_type": "display_data"
    }
   ],
   "source": [
    "#Confusion Matrix\n",
    "confusion_plot(rnd_forest, X_test, y_test)"
   ]
  },
  {
   "cell_type": "code",
   "execution_count": 32,
   "id": "75eb3614",
   "metadata": {},
   "outputs": [],
   "source": [
    "X_test = X_test.values"
   ]
  },
  {
   "cell_type": "code",
   "execution_count": 33,
   "id": "54b10cf7",
   "metadata": {
    "scrolled": false
   },
   "outputs": [
    {
     "data": {
      "text/plain": [
       "array([0, 0, 0, 0, 0, 0, 1, 0, 0, 0, 0, 0, 1, 1, 0, 0, 0, 0, 0, 0, 0, 0,\n",
       "       0, 0, 0, 0, 1, 0, 1, 0, 0, 0, 0, 0, 0, 0, 0, 0, 0, 0, 0, 1, 0, 0,\n",
       "       0, 0, 0, 0, 0, 0, 0, 0, 0, 0, 0, 0, 0, 0, 1, 0, 0, 0, 1, 0, 0, 0,\n",
       "       0, 0, 0, 0, 0, 0, 0, 0, 0, 0, 0, 0, 0, 1, 0, 0, 0, 0, 0, 0, 0, 1,\n",
       "       1, 0, 0, 0, 0, 0, 0, 0, 0, 0, 0, 0, 0, 0, 0, 0, 0, 0, 0, 0, 0, 0,\n",
       "       0, 0, 0, 0, 0, 0, 0, 0, 0, 0, 0, 0, 0, 0, 0, 0, 0, 0, 0, 0, 0],\n",
       "      dtype=int64)"
      ]
     },
     "execution_count": 33,
     "metadata": {},
     "output_type": "execute_result"
    }
   ],
   "source": [
    "X_test[1]"
   ]
  },
  {
   "cell_type": "code",
   "execution_count": 34,
   "id": "67b75b89",
   "metadata": {},
   "outputs": [
    {
     "data": {
      "text/plain": [
       "itching                  0\n",
       " skin_rash               0\n",
       " nodal_skin_eruptions    0\n",
       " dischromic _patches     0\n",
       " continuous_sneezing     0\n",
       "                        ..\n",
       " small_dents_in_nails    0\n",
       " inflammatory_nails      0\n",
       " blister                 0\n",
       " red_sore_around_nose    0\n",
       " yellow_crust_ooze       0\n",
       "Name: 896, Length: 131, dtype: int64"
      ]
     },
     "execution_count": 34,
     "metadata": {},
     "output_type": "execute_result"
    }
   ],
   "source": [
    "X_train.iloc[0]"
   ]
  },
  {
   "cell_type": "code",
   "execution_count": 35,
   "id": "46a1e87a",
   "metadata": {},
   "outputs": [],
   "source": [
    "prediction = rnd_forest.predict([X_test[1]])"
   ]
  },
  {
   "cell_type": "code",
   "execution_count": 36,
   "id": "c507277e",
   "metadata": {},
   "outputs": [
    {
     "name": "stdout",
     "output_type": "stream",
     "text": [
      "['Pneumonia']\n"
     ]
    }
   ],
   "source": [
    "print(prediction)"
   ]
  },
  {
   "cell_type": "code",
   "execution_count": 37,
   "id": "05cd10f3",
   "metadata": {},
   "outputs": [],
   "source": [
    "sample_data = np.array([1, 1, 1, 1, 0, 0, 0, 0, 0, 0, 0, 0, 0, 0, 0, 0, 0, 0, 0, 0, 0, 0,\n",
    "       0, 0, 0, 0, 0, 0, 0, 0, 0, 0, 0, 0, 0, 0, 0, 0, 0, 0, 0, 0, 0, 0,\n",
    "       0, 0, 0, 0, 0, 0, 0, 0, 0, 0, 0, 0, 0, 0, 0, 0, 0, 0, 0, 0, 0, 0,\n",
    "       0, 0, 0, 0, 0, 0, 0, 0, 0, 0, 0, 0, 1, 1, 1, 1, 1, 1, 1, 1, 0, 0,\n",
    "       0, 0, 0, 0, 0, 0, 0, 0, 0, 0, 0, 0, 0, 0, 0, 0, 0, 0, 0, 0, 0, 0,\n",
    "       0, 0, 0, 0, 0, 0, 0, 0, 0, 0, 0, 0, 0, 0, 0, 0, 0, 0, 0, 0, 0])"
   ]
  },
  {
   "cell_type": "code",
   "execution_count": 38,
   "id": "e3339011",
   "metadata": {},
   "outputs": [
    {
     "data": {
      "text/plain": [
       "array([1, 1, 1, 1, 0, 0, 0, 0, 0, 0, 0, 0, 0, 0, 0, 0, 0, 0, 0, 0, 0, 0,\n",
       "       0, 0, 0, 0, 0, 0, 0, 0, 0, 0, 0, 0, 0, 0, 0, 0, 0, 0, 0, 0, 0, 0,\n",
       "       0, 0, 0, 0, 0, 0, 0, 0, 0, 0, 0, 0, 0, 0, 0, 0, 0, 0, 0, 0, 0, 0,\n",
       "       0, 0, 0, 0, 0, 0, 0, 0, 0, 0, 0, 0, 1, 1, 1, 1, 1, 1, 1, 1, 0, 0,\n",
       "       0, 0, 0, 0, 0, 0, 0, 0, 0, 0, 0, 0, 0, 0, 0, 0, 0, 0, 0, 0, 0, 0,\n",
       "       0, 0, 0, 0, 0, 0, 0, 0, 0, 0, 0, 0, 0, 0, 0, 0, 0, 0, 0, 0, 0])"
      ]
     },
     "execution_count": 38,
     "metadata": {},
     "output_type": "execute_result"
    }
   ],
   "source": [
    "sample_data"
   ]
  },
  {
   "cell_type": "code",
   "execution_count": 39,
   "id": "4e1f9e16",
   "metadata": {
    "scrolled": true
   },
   "outputs": [
    {
     "data": {
      "text/plain": [
       "array(['Common Cold'], dtype=object)"
      ]
     },
     "execution_count": 39,
     "metadata": {},
     "output_type": "execute_result"
    }
   ],
   "source": [
    "rnd_forest.predict([sample_data])"
   ]
  },
  {
   "cell_type": "markdown",
   "id": "f83e5e0f",
   "metadata": {},
   "source": [
    "<h3>Exporting the Random Forest Model</h3>"
   ]
  },
  {
   "cell_type": "code",
   "execution_count": 40,
   "id": "2f617225",
   "metadata": {},
   "outputs": [],
   "source": [
    "import joblib"
   ]
  },
  {
   "cell_type": "code",
   "execution_count": 41,
   "id": "edbdadef",
   "metadata": {},
   "outputs": [
    {
     "data": {
      "text/plain": [
       "['model.pkl']"
      ]
     },
     "execution_count": 41,
     "metadata": {},
     "output_type": "execute_result"
    }
   ],
   "source": [
    "joblib.dump(rnd_forest, 'model.pkl')"
   ]
  },
  {
   "cell_type": "code",
   "execution_count": 42,
   "id": "2caa5351",
   "metadata": {},
   "outputs": [
    {
     "name": "stdout",
     "output_type": "stream",
     "text": [
      "['Common Cold']\n"
     ]
    }
   ],
   "source": [
    "clf = joblib.load('model.pkl')\n",
    "\n",
    "predictions = clf.predict([sample_data])\n",
    "print(predictions)"
   ]
  },
  {
   "cell_type": "code",
   "execution_count": 43,
   "id": "a27a9683",
   "metadata": {},
   "outputs": [],
   "source": [
    "sample_data = np.array([0, 0, 0, 0, 0, 0, 0, 0, 0, 0, 0, 0, 0, 0, 0, 0, 0, 0, 0, 0, 0, 0,\n",
    "       0, 0, 0, 0, 0, 0, 0, 0, 0, 0, 0, 0, 0, 0, 0, 0, 0, 0, 0, 0, 0, 0,\n",
    "       0, 0, 0, 0, 0, 0, 0, 0, 0, 0, 0, 0, 0, 0, 0, 0, 0, 0, 0, 0, 0, 0,\n",
    "       0, 0, 0, 0, 0, 0, 0, 0, 0, 0, 0, 0, 1, 1, 1, 1, 1, 0, 0, 0, 0, 0,\n",
    "       0, 0, 0, 0, 0, 0, 0, 0, 0, 0, 0, 0, 0, 0, 0, 0, 0, 0, 0, 0, 0, 0,\n",
    "       0, 0, 0, 0, 0, 0, 0, 0, 0, 0, 0, 0, 0, 0, 0, 0, 0, 0, 0, 0, 0])"
   ]
  },
  {
   "cell_type": "code",
   "execution_count": 44,
   "id": "b38a6e5b",
   "metadata": {},
   "outputs": [
    {
     "name": "stdout",
     "output_type": "stream",
     "text": [
      "['Tuberculosis']\n"
     ]
    }
   ],
   "source": [
    "predictions = clf.predict([sample_data])\n",
    "print(predictions)"
   ]
  },
  {
   "cell_type": "markdown",
   "id": "a31ff6a0",
   "metadata": {},
   "source": [
    "<h3>Disease Description and Precautions</h3>"
   ]
  },
  {
   "cell_type": "code",
   "execution_count": 45,
   "id": "3a4790d0",
   "metadata": {},
   "outputs": [],
   "source": [
    "df_precaution = pd.read_csv(\"symptom_precaution.csv\")\n",
    "df_description = pd.read_csv(\"symptom_Description.csv\")"
   ]
  },
  {
   "cell_type": "code",
   "execution_count": 46,
   "id": "15957922",
   "metadata": {},
   "outputs": [
    {
     "data": {
      "text/html": [
       "<div>\n",
       "<style scoped>\n",
       "    .dataframe tbody tr th:only-of-type {\n",
       "        vertical-align: middle;\n",
       "    }\n",
       "\n",
       "    .dataframe tbody tr th {\n",
       "        vertical-align: top;\n",
       "    }\n",
       "\n",
       "    .dataframe thead th {\n",
       "        text-align: right;\n",
       "    }\n",
       "</style>\n",
       "<table border=\"1\" class=\"dataframe\">\n",
       "  <thead>\n",
       "    <tr style=\"text-align: right;\">\n",
       "      <th></th>\n",
       "      <th>Disease</th>\n",
       "      <th>Precaution_1</th>\n",
       "      <th>Precaution_2</th>\n",
       "      <th>Precaution_3</th>\n",
       "      <th>Precaution_4</th>\n",
       "    </tr>\n",
       "  </thead>\n",
       "  <tbody>\n",
       "    <tr>\n",
       "      <th>0</th>\n",
       "      <td>Drug Reaction</td>\n",
       "      <td>stop irritation</td>\n",
       "      <td>consult nearest hospital</td>\n",
       "      <td>stop taking drug</td>\n",
       "      <td>follow up</td>\n",
       "    </tr>\n",
       "    <tr>\n",
       "      <th>1</th>\n",
       "      <td>Malaria</td>\n",
       "      <td>Consult nearest hospital</td>\n",
       "      <td>avoid oily food</td>\n",
       "      <td>avoid non veg food</td>\n",
       "      <td>keep mosquitos out</td>\n",
       "    </tr>\n",
       "    <tr>\n",
       "      <th>2</th>\n",
       "      <td>Allergy</td>\n",
       "      <td>apply calamine</td>\n",
       "      <td>cover area with bandage</td>\n",
       "      <td>NaN</td>\n",
       "      <td>use ice to compress itching</td>\n",
       "    </tr>\n",
       "    <tr>\n",
       "      <th>3</th>\n",
       "      <td>Hypothyroidism</td>\n",
       "      <td>reduce stress</td>\n",
       "      <td>exercise</td>\n",
       "      <td>eat healthy</td>\n",
       "      <td>get proper sleep</td>\n",
       "    </tr>\n",
       "    <tr>\n",
       "      <th>4</th>\n",
       "      <td>Psoriasis</td>\n",
       "      <td>wash hands with warm soapy water</td>\n",
       "      <td>stop bleeding using pressure</td>\n",
       "      <td>consult doctor</td>\n",
       "      <td>salt baths</td>\n",
       "    </tr>\n",
       "  </tbody>\n",
       "</table>\n",
       "</div>"
      ],
      "text/plain": [
       "          Disease                      Precaution_1  \\\n",
       "0   Drug Reaction                   stop irritation   \n",
       "1         Malaria          Consult nearest hospital   \n",
       "2         Allergy                    apply calamine   \n",
       "3  Hypothyroidism                     reduce stress   \n",
       "4       Psoriasis  wash hands with warm soapy water   \n",
       "\n",
       "                   Precaution_2        Precaution_3  \\\n",
       "0      consult nearest hospital    stop taking drug   \n",
       "1               avoid oily food  avoid non veg food   \n",
       "2       cover area with bandage                 NaN   \n",
       "3                      exercise         eat healthy   \n",
       "4  stop bleeding using pressure      consult doctor   \n",
       "\n",
       "                  Precaution_4  \n",
       "0                    follow up  \n",
       "1           keep mosquitos out  \n",
       "2  use ice to compress itching  \n",
       "3             get proper sleep  \n",
       "4                   salt baths  "
      ]
     },
     "execution_count": 46,
     "metadata": {},
     "output_type": "execute_result"
    }
   ],
   "source": [
    "df_precaution.fillna('consult doctor')\n",
    "df_precaution.head()"
   ]
  },
  {
   "cell_type": "code",
   "execution_count": 47,
   "id": "b6c050f3",
   "metadata": {},
   "outputs": [],
   "source": [
    "df_precaution['Precautions'] = df_precaution[df_precaution.columns[1:]].apply(lambda x: ', '.join(x.dropna().astype(str)),axis=1)"
   ]
  },
  {
   "cell_type": "code",
   "execution_count": 48,
   "id": "1115b616",
   "metadata": {},
   "outputs": [
    {
     "data": {
      "text/html": [
       "<div>\n",
       "<style scoped>\n",
       "    .dataframe tbody tr th:only-of-type {\n",
       "        vertical-align: middle;\n",
       "    }\n",
       "\n",
       "    .dataframe tbody tr th {\n",
       "        vertical-align: top;\n",
       "    }\n",
       "\n",
       "    .dataframe thead th {\n",
       "        text-align: right;\n",
       "    }\n",
       "</style>\n",
       "<table border=\"1\" class=\"dataframe\">\n",
       "  <thead>\n",
       "    <tr style=\"text-align: right;\">\n",
       "      <th></th>\n",
       "      <th>Disease</th>\n",
       "      <th>Precaution_1</th>\n",
       "      <th>Precaution_2</th>\n",
       "      <th>Precaution_3</th>\n",
       "      <th>Precaution_4</th>\n",
       "      <th>Precautions</th>\n",
       "    </tr>\n",
       "  </thead>\n",
       "  <tbody>\n",
       "    <tr>\n",
       "      <th>0</th>\n",
       "      <td>Drug Reaction</td>\n",
       "      <td>stop irritation</td>\n",
       "      <td>consult nearest hospital</td>\n",
       "      <td>stop taking drug</td>\n",
       "      <td>follow up</td>\n",
       "      <td>stop irritation, consult nearest hospital, sto...</td>\n",
       "    </tr>\n",
       "    <tr>\n",
       "      <th>1</th>\n",
       "      <td>Malaria</td>\n",
       "      <td>Consult nearest hospital</td>\n",
       "      <td>avoid oily food</td>\n",
       "      <td>avoid non veg food</td>\n",
       "      <td>keep mosquitos out</td>\n",
       "      <td>Consult nearest hospital, avoid oily food, avo...</td>\n",
       "    </tr>\n",
       "    <tr>\n",
       "      <th>2</th>\n",
       "      <td>Allergy</td>\n",
       "      <td>apply calamine</td>\n",
       "      <td>cover area with bandage</td>\n",
       "      <td>NaN</td>\n",
       "      <td>use ice to compress itching</td>\n",
       "      <td>apply calamine, cover area with bandage, use i...</td>\n",
       "    </tr>\n",
       "    <tr>\n",
       "      <th>3</th>\n",
       "      <td>Hypothyroidism</td>\n",
       "      <td>reduce stress</td>\n",
       "      <td>exercise</td>\n",
       "      <td>eat healthy</td>\n",
       "      <td>get proper sleep</td>\n",
       "      <td>reduce stress, exercise, eat healthy, get prop...</td>\n",
       "    </tr>\n",
       "    <tr>\n",
       "      <th>4</th>\n",
       "      <td>Psoriasis</td>\n",
       "      <td>wash hands with warm soapy water</td>\n",
       "      <td>stop bleeding using pressure</td>\n",
       "      <td>consult doctor</td>\n",
       "      <td>salt baths</td>\n",
       "      <td>wash hands with warm soapy water, stop bleedin...</td>\n",
       "    </tr>\n",
       "  </tbody>\n",
       "</table>\n",
       "</div>"
      ],
      "text/plain": [
       "          Disease                      Precaution_1  \\\n",
       "0   Drug Reaction                   stop irritation   \n",
       "1         Malaria          Consult nearest hospital   \n",
       "2         Allergy                    apply calamine   \n",
       "3  Hypothyroidism                     reduce stress   \n",
       "4       Psoriasis  wash hands with warm soapy water   \n",
       "\n",
       "                   Precaution_2        Precaution_3  \\\n",
       "0      consult nearest hospital    stop taking drug   \n",
       "1               avoid oily food  avoid non veg food   \n",
       "2       cover area with bandage                 NaN   \n",
       "3                      exercise         eat healthy   \n",
       "4  stop bleeding using pressure      consult doctor   \n",
       "\n",
       "                  Precaution_4  \\\n",
       "0                    follow up   \n",
       "1           keep mosquitos out   \n",
       "2  use ice to compress itching   \n",
       "3             get proper sleep   \n",
       "4                   salt baths   \n",
       "\n",
       "                                         Precautions  \n",
       "0  stop irritation, consult nearest hospital, sto...  \n",
       "1  Consult nearest hospital, avoid oily food, avo...  \n",
       "2  apply calamine, cover area with bandage, use i...  \n",
       "3  reduce stress, exercise, eat healthy, get prop...  \n",
       "4  wash hands with warm soapy water, stop bleedin...  "
      ]
     },
     "execution_count": 48,
     "metadata": {},
     "output_type": "execute_result"
    }
   ],
   "source": [
    "df_precaution.head()"
   ]
  },
  {
   "cell_type": "code",
   "execution_count": 49,
   "id": "144122c5",
   "metadata": {},
   "outputs": [],
   "source": [
    "df_precaution['Disease'] = df_precaution['Disease'].str.strip()"
   ]
  },
  {
   "cell_type": "code",
   "execution_count": 50,
   "id": "b64c27e5",
   "metadata": {},
   "outputs": [],
   "source": [
    "df_precaution['Precautions'] = df_precaution['Precautions'].str.strip()"
   ]
  },
  {
   "cell_type": "code",
   "execution_count": 51,
   "id": "9bcae35f",
   "metadata": {},
   "outputs": [
    {
     "data": {
      "text/html": [
       "<div>\n",
       "<style scoped>\n",
       "    .dataframe tbody tr th:only-of-type {\n",
       "        vertical-align: middle;\n",
       "    }\n",
       "\n",
       "    .dataframe tbody tr th {\n",
       "        vertical-align: top;\n",
       "    }\n",
       "\n",
       "    .dataframe thead th {\n",
       "        text-align: right;\n",
       "    }\n",
       "</style>\n",
       "<table border=\"1\" class=\"dataframe\">\n",
       "  <thead>\n",
       "    <tr style=\"text-align: right;\">\n",
       "      <th></th>\n",
       "      <th>Disease</th>\n",
       "      <th>Precaution_1</th>\n",
       "      <th>Precaution_2</th>\n",
       "      <th>Precaution_3</th>\n",
       "      <th>Precaution_4</th>\n",
       "      <th>Precautions</th>\n",
       "    </tr>\n",
       "  </thead>\n",
       "  <tbody>\n",
       "    <tr>\n",
       "      <th>0</th>\n",
       "      <td>Drug Reaction</td>\n",
       "      <td>stop irritation</td>\n",
       "      <td>consult nearest hospital</td>\n",
       "      <td>stop taking drug</td>\n",
       "      <td>follow up</td>\n",
       "      <td>stop irritation, consult nearest hospital, sto...</td>\n",
       "    </tr>\n",
       "    <tr>\n",
       "      <th>1</th>\n",
       "      <td>Malaria</td>\n",
       "      <td>Consult nearest hospital</td>\n",
       "      <td>avoid oily food</td>\n",
       "      <td>avoid non veg food</td>\n",
       "      <td>keep mosquitos out</td>\n",
       "      <td>Consult nearest hospital, avoid oily food, avo...</td>\n",
       "    </tr>\n",
       "    <tr>\n",
       "      <th>2</th>\n",
       "      <td>Allergy</td>\n",
       "      <td>apply calamine</td>\n",
       "      <td>cover area with bandage</td>\n",
       "      <td>NaN</td>\n",
       "      <td>use ice to compress itching</td>\n",
       "      <td>apply calamine, cover area with bandage, use i...</td>\n",
       "    </tr>\n",
       "    <tr>\n",
       "      <th>3</th>\n",
       "      <td>Hypothyroidism</td>\n",
       "      <td>reduce stress</td>\n",
       "      <td>exercise</td>\n",
       "      <td>eat healthy</td>\n",
       "      <td>get proper sleep</td>\n",
       "      <td>reduce stress, exercise, eat healthy, get prop...</td>\n",
       "    </tr>\n",
       "    <tr>\n",
       "      <th>4</th>\n",
       "      <td>Psoriasis</td>\n",
       "      <td>wash hands with warm soapy water</td>\n",
       "      <td>stop bleeding using pressure</td>\n",
       "      <td>consult doctor</td>\n",
       "      <td>salt baths</td>\n",
       "      <td>wash hands with warm soapy water, stop bleedin...</td>\n",
       "    </tr>\n",
       "  </tbody>\n",
       "</table>\n",
       "</div>"
      ],
      "text/plain": [
       "          Disease                      Precaution_1  \\\n",
       "0   Drug Reaction                   stop irritation   \n",
       "1         Malaria          Consult nearest hospital   \n",
       "2         Allergy                    apply calamine   \n",
       "3  Hypothyroidism                     reduce stress   \n",
       "4       Psoriasis  wash hands with warm soapy water   \n",
       "\n",
       "                   Precaution_2        Precaution_3  \\\n",
       "0      consult nearest hospital    stop taking drug   \n",
       "1               avoid oily food  avoid non veg food   \n",
       "2       cover area with bandage                 NaN   \n",
       "3                      exercise         eat healthy   \n",
       "4  stop bleeding using pressure      consult doctor   \n",
       "\n",
       "                  Precaution_4  \\\n",
       "0                    follow up   \n",
       "1           keep mosquitos out   \n",
       "2  use ice to compress itching   \n",
       "3             get proper sleep   \n",
       "4                   salt baths   \n",
       "\n",
       "                                         Precautions  \n",
       "0  stop irritation, consult nearest hospital, sto...  \n",
       "1  Consult nearest hospital, avoid oily food, avo...  \n",
       "2  apply calamine, cover area with bandage, use i...  \n",
       "3  reduce stress, exercise, eat healthy, get prop...  \n",
       "4  wash hands with warm soapy water, stop bleedin...  "
      ]
     },
     "execution_count": 51,
     "metadata": {},
     "output_type": "execute_result"
    }
   ],
   "source": [
    "df_precaution.head()"
   ]
  },
  {
   "cell_type": "code",
   "execution_count": 52,
   "id": "a0a26be1",
   "metadata": {},
   "outputs": [
    {
     "data": {
      "text/html": [
       "<div>\n",
       "<style scoped>\n",
       "    .dataframe tbody tr th:only-of-type {\n",
       "        vertical-align: middle;\n",
       "    }\n",
       "\n",
       "    .dataframe tbody tr th {\n",
       "        vertical-align: top;\n",
       "    }\n",
       "\n",
       "    .dataframe thead th {\n",
       "        text-align: right;\n",
       "    }\n",
       "</style>\n",
       "<table border=\"1\" class=\"dataframe\">\n",
       "  <thead>\n",
       "    <tr style=\"text-align: right;\">\n",
       "      <th></th>\n",
       "      <th>Disease</th>\n",
       "      <th>Precautions</th>\n",
       "    </tr>\n",
       "  </thead>\n",
       "  <tbody>\n",
       "    <tr>\n",
       "      <th>0</th>\n",
       "      <td>Drug Reaction</td>\n",
       "      <td>stop irritation, consult nearest hospital, sto...</td>\n",
       "    </tr>\n",
       "    <tr>\n",
       "      <th>1</th>\n",
       "      <td>Malaria</td>\n",
       "      <td>Consult nearest hospital, avoid oily food, avo...</td>\n",
       "    </tr>\n",
       "    <tr>\n",
       "      <th>2</th>\n",
       "      <td>Allergy</td>\n",
       "      <td>apply calamine, cover area with bandage, use i...</td>\n",
       "    </tr>\n",
       "    <tr>\n",
       "      <th>3</th>\n",
       "      <td>Hypothyroidism</td>\n",
       "      <td>reduce stress, exercise, eat healthy, get prop...</td>\n",
       "    </tr>\n",
       "    <tr>\n",
       "      <th>4</th>\n",
       "      <td>Psoriasis</td>\n",
       "      <td>wash hands with warm soapy water, stop bleedin...</td>\n",
       "    </tr>\n",
       "  </tbody>\n",
       "</table>\n",
       "</div>"
      ],
      "text/plain": [
       "          Disease                                        Precautions\n",
       "0   Drug Reaction  stop irritation, consult nearest hospital, sto...\n",
       "1         Malaria  Consult nearest hospital, avoid oily food, avo...\n",
       "2         Allergy  apply calamine, cover area with bandage, use i...\n",
       "3  Hypothyroidism  reduce stress, exercise, eat healthy, get prop...\n",
       "4       Psoriasis  wash hands with warm soapy water, stop bleedin..."
      ]
     },
     "execution_count": 52,
     "metadata": {},
     "output_type": "execute_result"
    }
   ],
   "source": [
    "df_precaution = df_precaution.drop(columns=['Precaution_1', 'Precaution_2','Precaution_3', 'Precaution_4'])\n",
    "df_precaution.head()"
   ]
  },
  {
   "cell_type": "code",
   "execution_count": 53,
   "id": "4b633399",
   "metadata": {},
   "outputs": [
    {
     "data": {
      "text/html": [
       "<div>\n",
       "<style scoped>\n",
       "    .dataframe tbody tr th:only-of-type {\n",
       "        vertical-align: middle;\n",
       "    }\n",
       "\n",
       "    .dataframe tbody tr th {\n",
       "        vertical-align: top;\n",
       "    }\n",
       "\n",
       "    .dataframe thead th {\n",
       "        text-align: right;\n",
       "    }\n",
       "</style>\n",
       "<table border=\"1\" class=\"dataframe\">\n",
       "  <thead>\n",
       "    <tr style=\"text-align: right;\">\n",
       "      <th></th>\n",
       "      <th>Disease</th>\n",
       "      <th>Precautions</th>\n",
       "      <th>Description</th>\n",
       "    </tr>\n",
       "  </thead>\n",
       "  <tbody>\n",
       "    <tr>\n",
       "      <th>0</th>\n",
       "      <td>Drug Reaction</td>\n",
       "      <td>stop irritation, consult nearest hospital, sto...</td>\n",
       "      <td>An adverse drug reaction (ADR) is an injury ca...</td>\n",
       "    </tr>\n",
       "    <tr>\n",
       "      <th>1</th>\n",
       "      <td>Malaria</td>\n",
       "      <td>Consult nearest hospital, avoid oily food, avo...</td>\n",
       "      <td>An infectious disease caused by protozoan para...</td>\n",
       "    </tr>\n",
       "    <tr>\n",
       "      <th>2</th>\n",
       "      <td>Allergy</td>\n",
       "      <td>apply calamine, cover area with bandage, use i...</td>\n",
       "      <td>An allergy is an immune system response to a f...</td>\n",
       "    </tr>\n",
       "    <tr>\n",
       "      <th>3</th>\n",
       "      <td>Hypothyroidism</td>\n",
       "      <td>reduce stress, exercise, eat healthy, get prop...</td>\n",
       "      <td>Hypothyroidism, also called underactive thyroi...</td>\n",
       "    </tr>\n",
       "    <tr>\n",
       "      <th>4</th>\n",
       "      <td>Psoriasis</td>\n",
       "      <td>wash hands with warm soapy water, stop bleedin...</td>\n",
       "      <td>Psoriasis is a common skin disorder that forms...</td>\n",
       "    </tr>\n",
       "  </tbody>\n",
       "</table>\n",
       "</div>"
      ],
      "text/plain": [
       "          Disease                                        Precautions  \\\n",
       "0   Drug Reaction  stop irritation, consult nearest hospital, sto...   \n",
       "1         Malaria  Consult nearest hospital, avoid oily food, avo...   \n",
       "2         Allergy  apply calamine, cover area with bandage, use i...   \n",
       "3  Hypothyroidism  reduce stress, exercise, eat healthy, get prop...   \n",
       "4       Psoriasis  wash hands with warm soapy water, stop bleedin...   \n",
       "\n",
       "                                         Description  \n",
       "0  An adverse drug reaction (ADR) is an injury ca...  \n",
       "1  An infectious disease caused by protozoan para...  \n",
       "2  An allergy is an immune system response to a f...  \n",
       "3  Hypothyroidism, also called underactive thyroi...  \n",
       "4  Psoriasis is a common skin disorder that forms...  "
      ]
     },
     "execution_count": 53,
     "metadata": {},
     "output_type": "execute_result"
    }
   ],
   "source": [
    "df_desc_prec = pd.merge(df_precaution, df_description, on='Disease', how='outer')\n",
    "df_desc_prec.head()"
   ]
  },
  {
   "cell_type": "code",
   "execution_count": 54,
   "id": "565eef92",
   "metadata": {},
   "outputs": [],
   "source": [
    "df_desc_prec.to_csv('precautions_description.csv', index=False)"
   ]
  }
 ],
 "metadata": {
  "kernelspec": {
   "display_name": "Python 3 (ipykernel)",
   "language": "python",
   "name": "python3"
  },
  "language_info": {
   "codemirror_mode": {
    "name": "ipython",
    "version": 3
   },
   "file_extension": ".py",
   "mimetype": "text/x-python",
   "name": "python",
   "nbconvert_exporter": "python",
   "pygments_lexer": "ipython3",
   "version": "3.9.12"
  }
 },
 "nbformat": 4,
 "nbformat_minor": 5
}
